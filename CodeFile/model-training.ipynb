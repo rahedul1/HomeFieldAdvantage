{
 "cells": [
  {
   "cell_type": "code",
   "execution_count": 57,
   "metadata": {
    "_cell_guid": "b1076dfc-b9ad-4769-8c92-a6c4dae69d19",
    "_uuid": "8f2839f25d086af736a60e9eeb907d3b93b6e0e5",
    "execution": {
     "iopub.execute_input": "2023-12-28T07:20:16.124341Z",
     "iopub.status.busy": "2023-12-28T07:20:16.123797Z",
     "iopub.status.idle": "2023-12-28T07:20:16.133232Z",
     "shell.execute_reply": "2023-12-28T07:20:16.132029Z",
     "shell.execute_reply.started": "2023-12-28T07:20:16.124300Z"
    }
   },
   "outputs": [],
   "source": [
    "import pandas as pd\n",
    "import numpy as np\n",
    "from sklearn.preprocessing import LabelEncoder\n",
    "from sklearn.model_selection import train_test_split\n",
    "from sklearn.linear_model import LogisticRegression\n",
    "from sklearn.ensemble import RandomForestClassifier\n",
    "from sklearn.neural_network import MLPClassifier\n",
    "from sklearn.tree import DecisionTreeClassifier\n",
    "from sklearn.naive_bayes import MultinomialNB\n",
    "from sklearn.linear_model import Perceptron\n",
    "from xgboost import XGBClassifier\n",
    "from sklearn.svm import SVC\n",
    "from sklearn.metrics import accuracy_score, classification_report, confusion_matrix\n",
    "from sklearn.preprocessing import StandardScaler\n",
    "\n",
    "import tensorflow as tf\n",
    "from tensorflow import keras\n",
    "from tensorflow.keras import layers, models"
   ]
  },
  {
   "cell_type": "code",
   "execution_count": 29,
   "metadata": {
    "execution": {
     "iopub.execute_input": "2023-12-28T07:05:58.473939Z",
     "iopub.status.busy": "2023-12-28T07:05:58.473475Z",
     "iopub.status.idle": "2023-12-28T07:05:58.569762Z",
     "shell.execute_reply": "2023-12-28T07:05:58.568807Z",
     "shell.execute_reply.started": "2023-12-28T07:05:58.473907Z"
    }
   },
   "outputs": [],
   "source": [
    "df = pd.read_csv(\"/kaggle/input/english-premier-league/final_dataset.csv\",index_col=0)"
   ]
  },
  {
   "cell_type": "code",
   "execution_count": 30,
   "metadata": {
    "execution": {
     "iopub.execute_input": "2023-12-28T07:05:58.748227Z",
     "iopub.status.busy": "2023-12-28T07:05:58.746939Z",
     "iopub.status.idle": "2023-12-28T07:05:59.319954Z",
     "shell.execute_reply": "2023-12-28T07:05:59.319118Z",
     "shell.execute_reply.started": "2023-12-28T07:05:58.748180Z"
    }
   },
   "outputs": [],
   "source": [
    "target = []\n",
    "\n",
    "for idx, row in df.iterrows():\n",
    "    if (row[\"FTHG\"] > row[\"FTAG\"]):\n",
    "        target.append(2)\n",
    "    elif (row[\"FTHG\"] < row[\"FTAG\"]):\n",
    "        target.append(0)\n",
    "    else:\n",
    "        target.append(1)"
   ]
  },
  {
   "cell_type": "code",
   "execution_count": 31,
   "metadata": {
    "execution": {
     "iopub.execute_input": "2023-12-28T07:05:59.416133Z",
     "iopub.status.busy": "2023-12-28T07:05:59.415060Z",
     "iopub.status.idle": "2023-12-28T07:05:59.423853Z",
     "shell.execute_reply": "2023-12-28T07:05:59.422989Z",
     "shell.execute_reply.started": "2023-12-28T07:05:59.416066Z"
    }
   },
   "outputs": [],
   "source": [
    "df = df.drop(['FTHG','FTAG','Date'], axis=1)"
   ]
  },
  {
   "cell_type": "code",
   "execution_count": 32,
   "metadata": {
    "execution": {
     "iopub.execute_input": "2023-12-28T07:05:59.687501Z",
     "iopub.status.busy": "2023-12-28T07:05:59.686869Z",
     "iopub.status.idle": "2023-12-28T07:05:59.732077Z",
     "shell.execute_reply": "2023-12-28T07:05:59.730707Z",
     "shell.execute_reply.started": "2023-12-28T07:05:59.687467Z"
    }
   },
   "outputs": [],
   "source": [
    "def encode_df(dataframe):\n",
    "    le = LabelEncoder()\n",
    "    for column in dataframe.columns:\n",
    "        if dataframe[column].dtype == 'O':\n",
    "            dataframe[column] = le.fit_transform(dataframe[column])\n",
    "    return dataframe\n",
    "\n",
    "#encode the dataframe\n",
    "df = encode_df(df)"
   ]
  },
  {
   "cell_type": "code",
   "execution_count": 33,
   "metadata": {
    "execution": {
     "iopub.execute_input": "2023-12-28T07:06:00.057724Z",
     "iopub.status.busy": "2023-12-28T07:06:00.055986Z",
     "iopub.status.idle": "2023-12-28T07:06:00.068952Z",
     "shell.execute_reply": "2023-12-28T07:06:00.067356Z",
     "shell.execute_reply.started": "2023-12-28T07:06:00.057668Z"
    }
   },
   "outputs": [],
   "source": [
    "df[\"Result\"] = target"
   ]
  },
  {
   "cell_type": "code",
   "execution_count": 34,
   "metadata": {
    "execution": {
     "iopub.execute_input": "2023-12-28T07:06:00.710497Z",
     "iopub.status.busy": "2023-12-28T07:06:00.709088Z",
     "iopub.status.idle": "2023-12-28T07:06:00.738386Z",
     "shell.execute_reply": "2023-12-28T07:06:00.737253Z",
     "shell.execute_reply.started": "2023-12-28T07:06:00.710452Z"
    }
   },
   "outputs": [
    {
     "data": {
      "text/html": [
       "<div>\n",
       "<style scoped>\n",
       "    .dataframe tbody tr th:only-of-type {\n",
       "        vertical-align: middle;\n",
       "    }\n",
       "\n",
       "    .dataframe tbody tr th {\n",
       "        vertical-align: top;\n",
       "    }\n",
       "\n",
       "    .dataframe thead th {\n",
       "        text-align: right;\n",
       "    }\n",
       "</style>\n",
       "<table border=\"1\" class=\"dataframe\">\n",
       "  <thead>\n",
       "    <tr style=\"text-align: right;\">\n",
       "      <th></th>\n",
       "      <th>HomeTeam</th>\n",
       "      <th>AwayTeam</th>\n",
       "      <th>FTR</th>\n",
       "      <th>HTGS</th>\n",
       "      <th>ATGS</th>\n",
       "      <th>HTGC</th>\n",
       "      <th>ATGC</th>\n",
       "      <th>HTP</th>\n",
       "      <th>ATP</th>\n",
       "      <th>HM1</th>\n",
       "      <th>...</th>\n",
       "      <th>HTLossStreak5</th>\n",
       "      <th>ATWinStreak3</th>\n",
       "      <th>ATWinStreak5</th>\n",
       "      <th>ATLossStreak3</th>\n",
       "      <th>ATLossStreak5</th>\n",
       "      <th>HTGD</th>\n",
       "      <th>ATGD</th>\n",
       "      <th>DiffPts</th>\n",
       "      <th>DiffFormPts</th>\n",
       "      <th>Result</th>\n",
       "    </tr>\n",
       "  </thead>\n",
       "  <tbody>\n",
       "    <tr>\n",
       "      <th>0</th>\n",
       "      <td>11</td>\n",
       "      <td>24</td>\n",
       "      <td>0</td>\n",
       "      <td>0</td>\n",
       "      <td>0</td>\n",
       "      <td>0</td>\n",
       "      <td>0</td>\n",
       "      <td>0.0</td>\n",
       "      <td>0.0</td>\n",
       "      <td>2</td>\n",
       "      <td>...</td>\n",
       "      <td>0</td>\n",
       "      <td>0</td>\n",
       "      <td>0</td>\n",
       "      <td>0</td>\n",
       "      <td>0</td>\n",
       "      <td>0.0</td>\n",
       "      <td>0.0</td>\n",
       "      <td>0.0</td>\n",
       "      <td>0.0</td>\n",
       "      <td>2</td>\n",
       "    </tr>\n",
       "    <tr>\n",
       "      <th>1</th>\n",
       "      <td>12</td>\n",
       "      <td>41</td>\n",
       "      <td>0</td>\n",
       "      <td>0</td>\n",
       "      <td>0</td>\n",
       "      <td>0</td>\n",
       "      <td>0</td>\n",
       "      <td>0.0</td>\n",
       "      <td>0.0</td>\n",
       "      <td>2</td>\n",
       "      <td>...</td>\n",
       "      <td>0</td>\n",
       "      <td>0</td>\n",
       "      <td>0</td>\n",
       "      <td>0</td>\n",
       "      <td>0</td>\n",
       "      <td>0.0</td>\n",
       "      <td>0.0</td>\n",
       "      <td>0.0</td>\n",
       "      <td>0.0</td>\n",
       "      <td>2</td>\n",
       "    </tr>\n",
       "    <tr>\n",
       "      <th>2</th>\n",
       "      <td>13</td>\n",
       "      <td>27</td>\n",
       "      <td>1</td>\n",
       "      <td>0</td>\n",
       "      <td>0</td>\n",
       "      <td>0</td>\n",
       "      <td>0</td>\n",
       "      <td>0.0</td>\n",
       "      <td>0.0</td>\n",
       "      <td>2</td>\n",
       "      <td>...</td>\n",
       "      <td>0</td>\n",
       "      <td>0</td>\n",
       "      <td>0</td>\n",
       "      <td>0</td>\n",
       "      <td>0</td>\n",
       "      <td>0.0</td>\n",
       "      <td>0.0</td>\n",
       "      <td>0.0</td>\n",
       "      <td>0.0</td>\n",
       "      <td>0</td>\n",
       "    </tr>\n",
       "    <tr>\n",
       "      <th>3</th>\n",
       "      <td>15</td>\n",
       "      <td>34</td>\n",
       "      <td>1</td>\n",
       "      <td>0</td>\n",
       "      <td>0</td>\n",
       "      <td>0</td>\n",
       "      <td>0</td>\n",
       "      <td>0.0</td>\n",
       "      <td>0.0</td>\n",
       "      <td>2</td>\n",
       "      <td>...</td>\n",
       "      <td>0</td>\n",
       "      <td>0</td>\n",
       "      <td>0</td>\n",
       "      <td>0</td>\n",
       "      <td>0</td>\n",
       "      <td>0.0</td>\n",
       "      <td>0.0</td>\n",
       "      <td>0.0</td>\n",
       "      <td>0.0</td>\n",
       "      <td>1</td>\n",
       "    </tr>\n",
       "    <tr>\n",
       "      <th>4</th>\n",
       "      <td>21</td>\n",
       "      <td>16</td>\n",
       "      <td>0</td>\n",
       "      <td>0</td>\n",
       "      <td>0</td>\n",
       "      <td>0</td>\n",
       "      <td>0</td>\n",
       "      <td>0.0</td>\n",
       "      <td>0.0</td>\n",
       "      <td>2</td>\n",
       "      <td>...</td>\n",
       "      <td>0</td>\n",
       "      <td>0</td>\n",
       "      <td>0</td>\n",
       "      <td>0</td>\n",
       "      <td>0</td>\n",
       "      <td>0.0</td>\n",
       "      <td>0.0</td>\n",
       "      <td>0.0</td>\n",
       "      <td>0.0</td>\n",
       "      <td>2</td>\n",
       "    </tr>\n",
       "  </tbody>\n",
       "</table>\n",
       "<p>5 rows × 37 columns</p>\n",
       "</div>"
      ],
      "text/plain": [
       "   HomeTeam  AwayTeam  FTR  HTGS  ATGS  HTGC  ATGC  HTP  ATP  HM1  ...  \\\n",
       "0        11        24    0     0     0     0     0  0.0  0.0    2  ...   \n",
       "1        12        41    0     0     0     0     0  0.0  0.0    2  ...   \n",
       "2        13        27    1     0     0     0     0  0.0  0.0    2  ...   \n",
       "3        15        34    1     0     0     0     0  0.0  0.0    2  ...   \n",
       "4        21        16    0     0     0     0     0  0.0  0.0    2  ...   \n",
       "\n",
       "   HTLossStreak5  ATWinStreak3  ATWinStreak5  ATLossStreak3  ATLossStreak5  \\\n",
       "0              0             0             0              0              0   \n",
       "1              0             0             0              0              0   \n",
       "2              0             0             0              0              0   \n",
       "3              0             0             0              0              0   \n",
       "4              0             0             0              0              0   \n",
       "\n",
       "   HTGD  ATGD  DiffPts  DiffFormPts  Result  \n",
       "0   0.0   0.0      0.0          0.0       2  \n",
       "1   0.0   0.0      0.0          0.0       2  \n",
       "2   0.0   0.0      0.0          0.0       0  \n",
       "3   0.0   0.0      0.0          0.0       1  \n",
       "4   0.0   0.0      0.0          0.0       2  \n",
       "\n",
       "[5 rows x 37 columns]"
      ]
     },
     "execution_count": 34,
     "metadata": {},
     "output_type": "execute_result"
    }
   ],
   "source": [
    "df.head()"
   ]
  },
  {
   "cell_type": "markdown",
   "metadata": {},
   "source": [
    "## Logistic Regression"
   ]
  },
  {
   "cell_type": "code",
   "execution_count": 35,
   "metadata": {
    "execution": {
     "iopub.execute_input": "2023-12-28T07:06:01.184678Z",
     "iopub.status.busy": "2023-12-28T07:06:01.184128Z",
     "iopub.status.idle": "2023-12-28T07:06:01.331854Z",
     "shell.execute_reply": "2023-12-28T07:06:01.326976Z",
     "shell.execute_reply.started": "2023-12-28T07:06:01.184621Z"
    }
   },
   "outputs": [
    {
     "name": "stdout",
     "output_type": "stream",
     "text": [
      "Accuracy: 0.5990497076023392\n",
      "Confusion Matrix:\n",
      "[[ 697  426  420]\n",
      " [ 443  464  483]\n",
      " [ 224  198 2117]]\n",
      "Classification Report:\n",
      "              precision    recall  f1-score   support\n",
      "\n",
      "           0       0.51      0.45      0.48      1543\n",
      "           1       0.43      0.33      0.37      1390\n",
      "           2       0.70      0.83      0.76      2539\n",
      "\n",
      "    accuracy                           0.60      5472\n",
      "   macro avg       0.55      0.54      0.54      5472\n",
      "weighted avg       0.58      0.60      0.58      5472\n",
      "\n"
     ]
    },
    {
     "name": "stderr",
     "output_type": "stream",
     "text": [
      "/opt/conda/lib/python3.10/site-packages/sklearn/linear_model/_logistic.py:458: ConvergenceWarning: lbfgs failed to converge (status=1):\n",
      "STOP: TOTAL NO. of ITERATIONS REACHED LIMIT.\n",
      "\n",
      "Increase the number of iterations (max_iter) or scale the data as shown in:\n",
      "    https://scikit-learn.org/stable/modules/preprocessing.html\n",
      "Please also refer to the documentation for alternative solver options:\n",
      "    https://scikit-learn.org/stable/modules/linear_model.html#logistic-regression\n",
      "  n_iter_i = _check_optimize_result(\n"
     ]
    }
   ],
   "source": [
    "X = df.drop(\"Result\", axis=1)\n",
    "y = df[\"Result\"]\n",
    "\n",
    "X_train, X_test, y_train, y_test = train_test_split(X, y, test_size=0.8, random_state=42)\n",
    "model = LogisticRegression()\n",
    "model.fit(X_train, y_train)\n",
    "y_pred = model.predict(X_test)\n",
    "accuracy = accuracy_score(y_test, y_pred)\n",
    "conf_matrix = confusion_matrix(y_test, y_pred)\n",
    "classification_rep = classification_report(y_test, y_pred)\n",
    "\n",
    "print(f\"Accuracy: {accuracy}\")\n",
    "print(f\"Confusion Matrix:\\n{conf_matrix}\")\n",
    "print(f\"Classification Report:\\n{classification_rep}\")"
   ]
  },
  {
   "cell_type": "markdown",
   "metadata": {},
   "source": [
    "## Decision Tree "
   ]
  },
  {
   "cell_type": "code",
   "execution_count": 36,
   "metadata": {
    "execution": {
     "iopub.execute_input": "2023-12-28T07:06:04.816040Z",
     "iopub.status.busy": "2023-12-28T07:06:04.815569Z",
     "iopub.status.idle": "2023-12-28T07:06:04.865622Z",
     "shell.execute_reply": "2023-12-28T07:06:04.864441Z",
     "shell.execute_reply.started": "2023-12-28T07:06:04.816000Z"
    }
   },
   "outputs": [
    {
     "name": "stdout",
     "output_type": "stream",
     "text": [
      "Accuracy: 0.7496345029239766\n",
      "Confusion Matrix:\n",
      "[[ 796  747    0]\n",
      " [ 623  767    0]\n",
      " [   0    0 2539]]\n",
      "Classification Report:\n",
      "              precision    recall  f1-score   support\n",
      "\n",
      "           0       0.56      0.52      0.54      1543\n",
      "           1       0.51      0.55      0.53      1390\n",
      "           2       1.00      1.00      1.00      2539\n",
      "\n",
      "    accuracy                           0.75      5472\n",
      "   macro avg       0.69      0.69      0.69      5472\n",
      "weighted avg       0.75      0.75      0.75      5472\n",
      "\n"
     ]
    }
   ],
   "source": [
    "model = DecisionTreeClassifier()\n",
    "model.fit(X_train, y_train)\n",
    "y_pred = model.predict(X_test)\n",
    "accuracy = accuracy_score(y_test, y_pred)\n",
    "conf_matrix = confusion_matrix(y_test, y_pred)\n",
    "classification_rep = classification_report(y_test, y_pred)\n",
    "\n",
    "print(f\"Accuracy: {accuracy}\")\n",
    "print(f\"Confusion Matrix:\\n{conf_matrix}\")\n",
    "print(f\"Classification Report:\\n{classification_rep}\")"
   ]
  },
  {
   "cell_type": "markdown",
   "metadata": {},
   "source": [
    "## Random Forest"
   ]
  },
  {
   "cell_type": "code",
   "execution_count": 38,
   "metadata": {
    "execution": {
     "iopub.execute_input": "2023-12-28T07:07:10.495147Z",
     "iopub.status.busy": "2023-12-28T07:07:10.494615Z",
     "iopub.status.idle": "2023-12-28T07:07:11.091566Z",
     "shell.execute_reply": "2023-12-28T07:07:11.090050Z",
     "shell.execute_reply.started": "2023-12-28T07:07:10.495107Z"
    }
   },
   "outputs": [
    {
     "name": "stdout",
     "output_type": "stream",
     "text": [
      "Accuracy: 0.7733918128654971\n",
      "Confusion Matrix:\n",
      "[[ 855  688    0]\n",
      " [ 552  838    0]\n",
      " [   0    0 2539]]\n",
      "Classification Report:\n",
      "              precision    recall  f1-score   support\n",
      "\n",
      "           0       0.61      0.55      0.58      1543\n",
      "           1       0.55      0.60      0.57      1390\n",
      "           2       1.00      1.00      1.00      2539\n",
      "\n",
      "    accuracy                           0.77      5472\n",
      "   macro avg       0.72      0.72      0.72      5472\n",
      "weighted avg       0.77      0.77      0.77      5472\n",
      "\n"
     ]
    }
   ],
   "source": [
    "model = RandomForestClassifier(n_estimators=100, random_state=42)\n",
    "model.fit(X_train, y_train)\n",
    "y_pred = model.predict(X_test)\n",
    "accuracy = accuracy_score(y_test, y_pred)\n",
    "conf_matrix = confusion_matrix(y_test, y_pred)\n",
    "classification_rep = classification_report(y_test, y_pred)\n",
    "\n",
    "print(f\"Accuracy: {accuracy}\")\n",
    "print(f\"Confusion Matrix:\\n{conf_matrix}\")\n",
    "print(f\"Classification Report:\\n{classification_rep}\")"
   ]
  },
  {
   "cell_type": "markdown",
   "metadata": {},
   "source": [
    "## SVM Classifier with Linear Kernel"
   ]
  },
  {
   "cell_type": "code",
   "execution_count": 40,
   "metadata": {
    "execution": {
     "iopub.execute_input": "2023-12-28T07:08:19.348972Z",
     "iopub.status.busy": "2023-12-28T07:08:19.348504Z",
     "iopub.status.idle": "2023-12-28T07:08:56.978623Z",
     "shell.execute_reply": "2023-12-28T07:08:56.977355Z",
     "shell.execute_reply.started": "2023-12-28T07:08:19.348939Z"
    }
   },
   "outputs": [
    {
     "name": "stdout",
     "output_type": "stream",
     "text": [
      "Accuracy: 0.7764985380116959\n",
      "Confusion Matrix:\n",
      "[[ 872  671    0]\n",
      " [ 552  838    0]\n",
      " [   0    0 2539]]\n",
      "Classification Report:\n",
      "              precision    recall  f1-score   support\n",
      "\n",
      "           0       0.61      0.57      0.59      1543\n",
      "           1       0.56      0.60      0.58      1390\n",
      "           2       1.00      1.00      1.00      2539\n",
      "\n",
      "    accuracy                           0.78      5472\n",
      "   macro avg       0.72      0.72      0.72      5472\n",
      "weighted avg       0.78      0.78      0.78      5472\n",
      "\n"
     ]
    }
   ],
   "source": [
    "model = SVC(kernel='linear', random_state=42)\n",
    "model.fit(X_train, y_train)\n",
    "y_pred = model.predict(X_test)\n",
    "accuracy = accuracy_score(y_test, y_pred)\n",
    "conf_matrix = confusion_matrix(y_test, y_pred)\n",
    "classification_rep = classification_report(y_test, y_pred)\n",
    "\n",
    "print(f\"Accuracy: {accuracy}\")\n",
    "print(f\"Confusion Matrix:\\n{conf_matrix}\")\n",
    "print(f\"Classification Report:\\n{classification_rep}\")"
   ]
  },
  {
   "cell_type": "markdown",
   "metadata": {},
   "source": [
    "## SVM Classifier with RBF Kernel"
   ]
  },
  {
   "cell_type": "code",
   "execution_count": 41,
   "metadata": {
    "execution": {
     "iopub.execute_input": "2023-12-28T07:08:56.981514Z",
     "iopub.status.busy": "2023-12-28T07:08:56.980961Z",
     "iopub.status.idle": "2023-12-28T07:08:57.647232Z",
     "shell.execute_reply": "2023-12-28T07:08:57.646135Z",
     "shell.execute_reply.started": "2023-12-28T07:08:56.981472Z"
    }
   },
   "outputs": [
    {
     "name": "stdout",
     "output_type": "stream",
     "text": [
      "Accuracy: 0.5020102339181286\n",
      "Confusion Matrix:\n",
      "[[ 369    0 1174]\n",
      " [ 166    0 1224]\n",
      " [ 161    0 2378]]\n",
      "Classification Report:\n",
      "              precision    recall  f1-score   support\n",
      "\n",
      "           0       0.53      0.24      0.33      1543\n",
      "           1       0.00      0.00      0.00      1390\n",
      "           2       0.50      0.94      0.65      2539\n",
      "\n",
      "    accuracy                           0.50      5472\n",
      "   macro avg       0.34      0.39      0.33      5472\n",
      "weighted avg       0.38      0.50      0.39      5472\n",
      "\n"
     ]
    },
    {
     "name": "stderr",
     "output_type": "stream",
     "text": [
      "/opt/conda/lib/python3.10/site-packages/sklearn/metrics/_classification.py:1344: UndefinedMetricWarning: Precision and F-score are ill-defined and being set to 0.0 in labels with no predicted samples. Use `zero_division` parameter to control this behavior.\n",
      "  _warn_prf(average, modifier, msg_start, len(result))\n",
      "/opt/conda/lib/python3.10/site-packages/sklearn/metrics/_classification.py:1344: UndefinedMetricWarning: Precision and F-score are ill-defined and being set to 0.0 in labels with no predicted samples. Use `zero_division` parameter to control this behavior.\n",
      "  _warn_prf(average, modifier, msg_start, len(result))\n",
      "/opt/conda/lib/python3.10/site-packages/sklearn/metrics/_classification.py:1344: UndefinedMetricWarning: Precision and F-score are ill-defined and being set to 0.0 in labels with no predicted samples. Use `zero_division` parameter to control this behavior.\n",
      "  _warn_prf(average, modifier, msg_start, len(result))\n"
     ]
    }
   ],
   "source": [
    "model = SVC(kernel='rbf', random_state=42)\n",
    "model.fit(X_train, y_train)\n",
    "y_pred = model.predict(X_test)\n",
    "accuracy = accuracy_score(y_test, y_pred)\n",
    "conf_matrix = confusion_matrix(y_test, y_pred)\n",
    "classification_rep = classification_report(y_test, y_pred)\n",
    "\n",
    "print(f\"Accuracy: {accuracy}\")\n",
    "print(f\"Confusion Matrix:\\n{conf_matrix}\")\n",
    "print(f\"Classification Report:\\n{classification_rep}\")"
   ]
  },
  {
   "cell_type": "markdown",
   "metadata": {},
   "source": [
    "## Perceptron Classifier"
   ]
  },
  {
   "cell_type": "code",
   "execution_count": 43,
   "metadata": {
    "execution": {
     "iopub.execute_input": "2023-12-28T07:09:11.867052Z",
     "iopub.status.busy": "2023-12-28T07:09:11.866391Z",
     "iopub.status.idle": "2023-12-28T07:09:11.933128Z",
     "shell.execute_reply": "2023-12-28T07:09:11.932074Z",
     "shell.execute_reply.started": "2023-12-28T07:09:11.867008Z"
    }
   },
   "outputs": [
    {
     "name": "stdout",
     "output_type": "stream",
     "text": [
      "Accuracy: 0.3048245614035088\n",
      "Confusion Matrix:\n",
      "[[  40 1480   23]\n",
      " [  16 1326   48]\n",
      " [  16 2221  302]]\n",
      "Classification Report:\n",
      "              precision    recall  f1-score   support\n",
      "\n",
      "           0       0.56      0.03      0.05      1543\n",
      "           1       0.26      0.95      0.41      1390\n",
      "           2       0.81      0.12      0.21      2539\n",
      "\n",
      "    accuracy                           0.30      5472\n",
      "   macro avg       0.54      0.37      0.22      5472\n",
      "weighted avg       0.60      0.30      0.22      5472\n",
      "\n"
     ]
    }
   ],
   "source": [
    "model = Perceptron(max_iter=1000, random_state=42)\n",
    "model.fit(X_train, y_train)\n",
    "y_pred = model.predict(X_test)\n",
    "accuracy = accuracy_score(y_test, y_pred)\n",
    "conf_matrix = confusion_matrix(y_test, y_pred)\n",
    "classification_rep = classification_report(y_test, y_pred)\n",
    "\n",
    "print(f\"Accuracy: {accuracy}\")\n",
    "print(f\"Confusion Matrix:\\n{conf_matrix}\")\n",
    "print(f\"Classification Report:\\n{classification_rep}\")"
   ]
  },
  {
   "cell_type": "markdown",
   "metadata": {},
   "source": [
    "## XGBoost Classifier"
   ]
  },
  {
   "cell_type": "code",
   "execution_count": 45,
   "metadata": {
    "execution": {
     "iopub.execute_input": "2023-12-28T07:10:02.736148Z",
     "iopub.status.busy": "2023-12-28T07:10:02.735686Z",
     "iopub.status.idle": "2023-12-28T07:10:03.188400Z",
     "shell.execute_reply": "2023-12-28T07:10:03.187144Z",
     "shell.execute_reply.started": "2023-12-28T07:10:02.736113Z"
    }
   },
   "outputs": [
    {
     "name": "stdout",
     "output_type": "stream",
     "text": [
      "Accuracy: 0.766264619883041\n",
      "Confusion Matrix:\n",
      "[[ 896  647    0]\n",
      " [ 632  758    0]\n",
      " [   0    0 2539]]\n",
      "Classification Report:\n",
      "              precision    recall  f1-score   support\n",
      "\n",
      "           0       0.59      0.58      0.58      1543\n",
      "           1       0.54      0.55      0.54      1390\n",
      "           2       1.00      1.00      1.00      2539\n",
      "\n",
      "    accuracy                           0.77      5472\n",
      "   macro avg       0.71      0.71      0.71      5472\n",
      "weighted avg       0.77      0.77      0.77      5472\n",
      "\n"
     ]
    }
   ],
   "source": [
    "model = XGBClassifier()\n",
    "model.fit(X_train, y_train)\n",
    "y_pred = model.predict(X_test)\n",
    "accuracy = accuracy_score(y_test, y_pred)\n",
    "conf_matrix = confusion_matrix(y_test, y_pred)\n",
    "classification_rep = classification_report(y_test, y_pred)\n",
    "\n",
    "print(f\"Accuracy: {accuracy}\")\n",
    "print(f\"Confusion Matrix:\\n{conf_matrix}\")\n",
    "print(f\"Classification Report:\\n{classification_rep}\")"
   ]
  },
  {
   "cell_type": "markdown",
   "metadata": {},
   "source": [
    "## MultiLayer Perceptron Classifier"
   ]
  },
  {
   "cell_type": "code",
   "execution_count": 52,
   "metadata": {
    "execution": {
     "iopub.execute_input": "2023-12-28T07:14:29.831372Z",
     "iopub.status.busy": "2023-12-28T07:14:29.830179Z",
     "iopub.status.idle": "2023-12-28T07:14:34.663844Z",
     "shell.execute_reply": "2023-12-28T07:14:34.662757Z",
     "shell.execute_reply.started": "2023-12-28T07:14:29.831330Z"
    }
   },
   "outputs": [
    {
     "name": "stdout",
     "output_type": "stream",
     "text": [
      "Accuracy: 0.7538377192982456\n",
      "Confusion Matrix:\n",
      "[[ 893  648    2]\n",
      " [ 692  696    2]\n",
      " [   0    3 2536]]\n",
      "Classification Report:\n",
      "              precision    recall  f1-score   support\n",
      "\n",
      "           0       0.56      0.58      0.57      1543\n",
      "           1       0.52      0.50      0.51      1390\n",
      "           2       1.00      1.00      1.00      2539\n",
      "\n",
      "    accuracy                           0.75      5472\n",
      "   macro avg       0.69      0.69      0.69      5472\n",
      "weighted avg       0.75      0.75      0.75      5472\n",
      "\n"
     ]
    }
   ],
   "source": [
    "scaler = StandardScaler()\n",
    "X_train_scaled = scaler.fit_transform(X_train)\n",
    "X_test_scaled = scaler.transform(X_test)\n",
    "model = MLPClassifier(hidden_layer_sizes=(100, 50), max_iter=500, random_state=42)\n",
    "model.fit(X_train_scaled, y_train)\n",
    "y_pred = model.predict(X_test_scaled)\n",
    "accuracy = accuracy_score(y_test, y_pred)\n",
    "conf_matrix = confusion_matrix(y_test, y_pred)\n",
    "classification_rep = classification_report(y_test, y_pred)\n",
    "\n",
    "print(f\"Accuracy: {accuracy}\")\n",
    "print(f\"Confusion Matrix:\\n{conf_matrix}\")\n",
    "print(f\"Classification Report:\\n{classification_rep}\")"
   ]
  },
  {
   "cell_type": "markdown",
   "metadata": {},
   "source": [
    "## CNN"
   ]
  },
  {
   "cell_type": "code",
   "execution_count": 63,
   "metadata": {
    "execution": {
     "iopub.execute_input": "2023-12-28T07:29:21.120199Z",
     "iopub.status.busy": "2023-12-28T07:29:21.119734Z",
     "iopub.status.idle": "2023-12-28T07:29:25.384402Z",
     "shell.execute_reply": "2023-12-28T07:29:25.383331Z",
     "shell.execute_reply.started": "2023-12-28T07:29:21.120165Z"
    }
   },
   "outputs": [
    {
     "name": "stdout",
     "output_type": "stream",
     "text": [
      "Epoch 1/10\n",
      "137/137 [==============================] - 1s 4ms/step - loss: 0.7978 - accuracy: 0.6351 - val_loss: 0.4843 - val_accuracy: 0.7489\n",
      "Epoch 2/10\n",
      "137/137 [==============================] - 0s 2ms/step - loss: 0.3985 - accuracy: 0.7836 - val_loss: 0.3764 - val_accuracy: 0.7744\n",
      "Epoch 3/10\n",
      "137/137 [==============================] - 0s 2ms/step - loss: 0.3586 - accuracy: 0.7926 - val_loss: 0.3658 - val_accuracy: 0.7708\n",
      "Epoch 4/10\n",
      "137/137 [==============================] - 0s 2ms/step - loss: 0.3494 - accuracy: 0.7946 - val_loss: 0.3644 - val_accuracy: 0.7689\n",
      "Epoch 5/10\n",
      "137/137 [==============================] - 0s 2ms/step - loss: 0.3423 - accuracy: 0.8019 - val_loss: 0.3634 - val_accuracy: 0.7854\n",
      "Epoch 6/10\n",
      "137/137 [==============================] - 0s 2ms/step - loss: 0.3395 - accuracy: 0.8081 - val_loss: 0.3631 - val_accuracy: 0.7708\n",
      "Epoch 7/10\n",
      "137/137 [==============================] - 0s 2ms/step - loss: 0.3337 - accuracy: 0.8159 - val_loss: 0.3660 - val_accuracy: 0.7781\n",
      "Epoch 8/10\n",
      "137/137 [==============================] - 0s 2ms/step - loss: 0.3285 - accuracy: 0.8191 - val_loss: 0.3672 - val_accuracy: 0.7717\n",
      "Epoch 9/10\n",
      "137/137 [==============================] - 0s 2ms/step - loss: 0.3247 - accuracy: 0.8220 - val_loss: 0.3683 - val_accuracy: 0.7735\n",
      "Epoch 10/10\n",
      "137/137 [==============================] - 0s 2ms/step - loss: 0.3197 - accuracy: 0.8275 - val_loss: 0.3733 - val_accuracy: 0.7653\n",
      "43/43 [==============================] - 0s 1ms/step\n",
      "Accuracy: 0.7660818713450293\n",
      "Confusion Matrix:\n",
      "[[252 142   0]\n",
      " [178 162   0]\n",
      " [  0   0 634]]\n",
      "Classification Report:\n",
      "              precision    recall  f1-score   support\n",
      "\n",
      "           0       0.59      0.64      0.61       394\n",
      "           1       0.53      0.48      0.50       340\n",
      "           2       1.00      1.00      1.00       634\n",
      "\n",
      "    accuracy                           0.77      1368\n",
      "   macro avg       0.71      0.71      0.70      1368\n",
      "weighted avg       0.76      0.77      0.76      1368\n",
      "\n"
     ]
    }
   ],
   "source": [
    "scaler = StandardScaler()\n",
    "X_scaled = scaler.fit_transform(X)\n",
    "y_categorical = keras.utils.to_categorical(y)\n",
    "X_train, X_test, y_train, y_test = train_test_split(X_scaled, y_categorical, test_size=0.2, random_state=42)\n",
    "model = keras.Sequential([\n",
    "    layers.Dense(64, activation='relu', input_shape=(X_train.shape[1],)),\n",
    "    layers.Dense(32, activation='relu'),\n",
    "    layers.Dense(3, activation='softmax')\n",
    "])\n",
    "model.compile(optimizer='adam', loss='categorical_crossentropy', metrics=['accuracy'])\n",
    "model.fit(X_train, y_train, epochs=10, batch_size=32, validation_split=0.2)\n",
    "y_pred_prob = model.predict(X_test)\n",
    "y_pred = np.argmax(y_pred_prob, axis=1)\n",
    "accuracy = accuracy_score(np.argmax(y_test, axis=1), y_pred)\n",
    "conf_matrix = confusion_matrix(np.argmax(y_test, axis=1), y_pred)\n",
    "classification_rep = classification_report(np.argmax(y_test, axis=1), y_pred)\n",
    "\n",
    "print(f\"Accuracy: {accuracy}\")\n",
    "print(f\"Confusion Matrix:\\n{conf_matrix}\")\n",
    "print(f\"Classification Report:\\n{classification_rep}\")"
   ]
  },
  {
   "cell_type": "markdown",
   "metadata": {},
   "source": [
    "## LSTM"
   ]
  },
  {
   "cell_type": "code",
   "execution_count": 64,
   "metadata": {
    "execution": {
     "iopub.execute_input": "2023-12-28T07:30:16.997449Z",
     "iopub.status.busy": "2023-12-28T07:30:16.995930Z",
     "iopub.status.idle": "2023-12-28T07:30:23.378228Z",
     "shell.execute_reply": "2023-12-28T07:30:23.377030Z",
     "shell.execute_reply.started": "2023-12-28T07:30:16.997385Z"
    }
   },
   "outputs": [
    {
     "name": "stdout",
     "output_type": "stream",
     "text": [
      "Epoch 1/10\n",
      "137/137 [==============================] - 2s 5ms/step - loss: 0.9728 - accuracy: 0.5289 - val_loss: 0.8267 - val_accuracy: 0.6758\n",
      "Epoch 2/10\n",
      "137/137 [==============================] - 0s 3ms/step - loss: 0.6516 - accuracy: 0.7409 - val_loss: 0.5047 - val_accuracy: 0.7726\n",
      "Epoch 3/10\n",
      "137/137 [==============================] - 0s 3ms/step - loss: 0.4251 - accuracy: 0.7882 - val_loss: 0.3933 - val_accuracy: 0.7872\n",
      "Epoch 4/10\n",
      "137/137 [==============================] - 0s 3ms/step - loss: 0.3715 - accuracy: 0.7910 - val_loss: 0.3689 - val_accuracy: 0.7909\n",
      "Epoch 5/10\n",
      "137/137 [==============================] - 0s 3ms/step - loss: 0.3586 - accuracy: 0.7935 - val_loss: 0.3619 - val_accuracy: 0.7900\n",
      "Epoch 6/10\n",
      "137/137 [==============================] - 0s 3ms/step - loss: 0.3511 - accuracy: 0.7937 - val_loss: 0.3636 - val_accuracy: 0.7744\n",
      "Epoch 7/10\n",
      "137/137 [==============================] - 0s 3ms/step - loss: 0.3476 - accuracy: 0.8019 - val_loss: 0.3592 - val_accuracy: 0.7936\n",
      "Epoch 8/10\n",
      "137/137 [==============================] - 0s 3ms/step - loss: 0.3449 - accuracy: 0.8010 - val_loss: 0.3614 - val_accuracy: 0.7808\n",
      "Epoch 9/10\n",
      "137/137 [==============================] - 0s 3ms/step - loss: 0.3419 - accuracy: 0.8065 - val_loss: 0.3617 - val_accuracy: 0.7799\n",
      "Epoch 10/10\n",
      "137/137 [==============================] - 0s 3ms/step - loss: 0.3399 - accuracy: 0.8037 - val_loss: 0.3598 - val_accuracy: 0.7845\n",
      "43/43 [==============================] - 0s 2ms/step\n",
      "Accuracy: 0.7711988304093568\n",
      "Confusion Matrix:\n",
      "[[260 134   0]\n",
      " [179 161   0]\n",
      " [  0   0 634]]\n",
      "Classification Report:\n",
      "              precision    recall  f1-score   support\n",
      "\n",
      "           0       0.59      0.66      0.62       394\n",
      "           1       0.55      0.47      0.51       340\n",
      "           2       1.00      1.00      1.00       634\n",
      "\n",
      "    accuracy                           0.77      1368\n",
      "   macro avg       0.71      0.71      0.71      1368\n",
      "weighted avg       0.77      0.77      0.77      1368\n",
      "\n"
     ]
    }
   ],
   "source": [
    "scaler = StandardScaler()\n",
    "X_scaled = scaler.fit_transform(X)\n",
    "y_categorical = keras.utils.to_categorical(y)\n",
    "X_reshaped = X_scaled.reshape((X_scaled.shape[0], 1, X_scaled.shape[1]))\n",
    "X_train, X_test, y_train, y_test = train_test_split(X_reshaped, y_categorical, test_size=0.2, random_state=42)\n",
    "model = keras.Sequential([\n",
    "    layers.LSTM(50, activation='relu', input_shape=(X_train.shape[1], X_train.shape[2])),\n",
    "    layers.Dense(3, activation='softmax')\n",
    "])\n",
    "model.compile(optimizer='adam', loss='categorical_crossentropy', metrics=['accuracy'])\n",
    "model.fit(X_train, y_train, epochs=10, batch_size=32, validation_split=0.2)\n",
    "y_pred_prob = model.predict(X_test)\n",
    "y_pred = np.argmax(y_pred_prob, axis=1)\n",
    "accuracy = accuracy_score(np.argmax(y_test, axis=1), y_pred)\n",
    "conf_matrix = confusion_matrix(np.argmax(y_test, axis=1), y_pred)\n",
    "classification_rep = classification_report(np.argmax(y_test, axis=1), y_pred)\n",
    "\n",
    "print(f\"Accuracy: {accuracy}\")\n",
    "print(f\"Confusion Matrix:\\n{conf_matrix}\")\n",
    "print(f\"Classification Report:\\n{classification_rep}\")"
   ]
  },
  {
   "cell_type": "markdown",
   "metadata": {},
   "source": [
    "## RNN"
   ]
  },
  {
   "cell_type": "code",
   "execution_count": 65,
   "metadata": {
    "execution": {
     "iopub.execute_input": "2023-12-28T07:31:17.174785Z",
     "iopub.status.busy": "2023-12-28T07:31:17.174059Z",
     "iopub.status.idle": "2023-12-28T07:31:22.630252Z",
     "shell.execute_reply": "2023-12-28T07:31:22.629141Z",
     "shell.execute_reply.started": "2023-12-28T07:31:17.174735Z"
    }
   },
   "outputs": [
    {
     "name": "stdout",
     "output_type": "stream",
     "text": [
      "Epoch 1/10\n",
      "137/137 [==============================] - 2s 5ms/step - loss: 0.8508 - accuracy: 0.6194 - val_loss: 0.6383 - val_accuracy: 0.7342\n",
      "Epoch 2/10\n",
      "137/137 [==============================] - 0s 3ms/step - loss: 0.5174 - accuracy: 0.7727 - val_loss: 0.4515 - val_accuracy: 0.7726\n",
      "Epoch 3/10\n",
      "137/137 [==============================] - 0s 3ms/step - loss: 0.4090 - accuracy: 0.7914 - val_loss: 0.3981 - val_accuracy: 0.7790\n",
      "Epoch 4/10\n",
      "137/137 [==============================] - 0s 3ms/step - loss: 0.3748 - accuracy: 0.7916 - val_loss: 0.3782 - val_accuracy: 0.7945\n",
      "Epoch 5/10\n",
      "137/137 [==============================] - 0s 2ms/step - loss: 0.3595 - accuracy: 0.7932 - val_loss: 0.3764 - val_accuracy: 0.7689\n",
      "Epoch 6/10\n",
      "137/137 [==============================] - 0s 3ms/step - loss: 0.3531 - accuracy: 0.7955 - val_loss: 0.3686 - val_accuracy: 0.7872\n",
      "Epoch 7/10\n",
      "137/137 [==============================] - 0s 2ms/step - loss: 0.3472 - accuracy: 0.8037 - val_loss: 0.3708 - val_accuracy: 0.7717\n",
      "Epoch 8/10\n",
      "137/137 [==============================] - 0s 3ms/step - loss: 0.3439 - accuracy: 0.8035 - val_loss: 0.3688 - val_accuracy: 0.7699\n",
      "Epoch 9/10\n",
      "137/137 [==============================] - 0s 2ms/step - loss: 0.3406 - accuracy: 0.8106 - val_loss: 0.3699 - val_accuracy: 0.7644\n",
      "Epoch 10/10\n",
      "137/137 [==============================] - 0s 3ms/step - loss: 0.3373 - accuracy: 0.8131 - val_loss: 0.3728 - val_accuracy: 0.7635\n",
      "43/43 [==============================] - 0s 1ms/step\n",
      "Accuracy: 0.7792397660818714\n",
      "Confusion Matrix:\n",
      "[[285 109   0]\n",
      " [193 147   0]\n",
      " [  0   0 634]]\n",
      "Classification Report:\n",
      "              precision    recall  f1-score   support\n",
      "\n",
      "           0       0.60      0.72      0.65       394\n",
      "           1       0.57      0.43      0.49       340\n",
      "           2       1.00      1.00      1.00       634\n",
      "\n",
      "    accuracy                           0.78      1368\n",
      "   macro avg       0.72      0.72      0.72      1368\n",
      "weighted avg       0.78      0.78      0.77      1368\n",
      "\n"
     ]
    }
   ],
   "source": [
    "scaler = StandardScaler()\n",
    "X_scaled = scaler.fit_transform(X)\n",
    "y_categorical = keras.utils.to_categorical(y)\n",
    "X_reshaped = X_scaled.reshape((X_scaled.shape[0], 1, X_scaled.shape[1]))\n",
    "X_train, X_test, y_train, y_test = train_test_split(X_reshaped, y_categorical, test_size=0.2, random_state=42)\n",
    "model = keras.Sequential([\n",
    "    layers.SimpleRNN(50, activation='relu', input_shape=(X_train.shape[1], X_train.shape[2])),\n",
    "    layers.Dense(3, activation='softmax')\n",
    "])\n",
    "model.compile(optimizer='adam', loss='categorical_crossentropy', metrics=['accuracy'])\n",
    "model.fit(X_train, y_train, epochs=10, batch_size=32, validation_split=0.2)\n",
    "y_pred_prob = model.predict(X_test)\n",
    "y_pred = np.argmax(y_pred_prob, axis=1)\n",
    "accuracy = accuracy_score(np.argmax(y_test, axis=1), y_pred)\n",
    "conf_matrix = confusion_matrix(np.argmax(y_test, axis=1), y_pred)\n",
    "classification_rep = classification_report(np.argmax(y_test, axis=1), y_pred)\n",
    "\n",
    "print(f\"Accuracy: {accuracy}\")\n",
    "print(f\"Confusion Matrix:\\n{conf_matrix}\")\n",
    "print(f\"Classification Report:\\n{classification_rep}\")"
   ]
  },
  {
   "cell_type": "markdown",
   "metadata": {},
   "source": [
    "# Score Report\n",
    "```\n",
    "                    Precision  Recall   F1 Score\n",
    "Logistic Regression   0.58      0.60      0.58\n",
    "Decision Trees        0.75      0.75      0.75\n",
    "Random Forest         0.77      0.77      0.77\n",
    "SVM Classifier Linear 0.78      0.78      0.78\n",
    "SVM Classifier RBF    0.38      0.50      0.39\n",
    "Perceptron Classifier 0.60      0.30      0.22\n",
    "XGBoost Classifier    0.77      0.77      0.77\n",
    "Multilayer Perceptron 0.75      0.75      0.75\n",
    "CNN                   0.76      0.77      0.76\n",
    "LSTM                  0.77      0.77      0.77\n",
    "RNN                   0.78      0.78      0.77\n",
    "```"
   ]
  }
 ],
 "metadata": {
  "kaggle": {
   "accelerator": "none",
   "dataSources": [
    {
     "datasetId": 524455,
     "sourceId": 4229262,
     "sourceType": "datasetVersion"
    }
   ],
   "dockerImageVersionId": 30626,
   "isGpuEnabled": false,
   "isInternetEnabled": true,
   "language": "python",
   "sourceType": "notebook"
  },
  "kernelspec": {
   "display_name": "Python 3 (ipykernel)",
   "language": "python",
   "name": "python3"
  },
  "language_info": {
   "codemirror_mode": {
    "name": "ipython",
    "version": 3
   },
   "file_extension": ".py",
   "mimetype": "text/x-python",
   "name": "python",
   "nbconvert_exporter": "python",
   "pygments_lexer": "ipython3",
   "version": "3.9.7"
  }
 },
 "nbformat": 4,
 "nbformat_minor": 4
}
